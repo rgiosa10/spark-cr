{
 "cells": [
  {
   "cell_type": "code",
   "execution_count": 5,
   "metadata": {},
   "outputs": [
    {
     "name": "stdout",
     "output_type": "stream",
     "text": [
      "['Date', 'Open', 'High', 'Low', 'Close', 'Volume', 'Currency']\n",
      "root\n",
      " |-- Date: date (nullable = true)\n",
      " |-- Open: float (nullable = true)\n",
      " |-- High: float (nullable = true)\n",
      " |-- Low: float (nullable = true)\n",
      " |-- Close: float (nullable = true)\n",
      " |-- Volume: float (nullable = true)\n",
      " |-- Currency: string (nullable = true)\n",
      "\n",
      "+----------+------+-----+------+------+------+--------+\n",
      "|      Date|  Open| High|   Low| Close|Volume|Currency|\n",
      "+----------+------+-----+------+------+------+--------+\n",
      "|2000-01-03|122.25|124.0| 116.1| 116.5|6640.0|     USD|\n",
      "|2000-01-04|116.25|120.5|115.75|116.25|5492.0|     USD|\n",
      "|2000-01-05| 115.0|121.0| 115.0| 118.6|6165.0|     USD|\n",
      "+----------+------+-----+------+------+------+--------+\n",
      "only showing top 3 rows\n",
      "\n"
     ]
    }
   ],
   "source": [
    "import os\n",
    "\n",
    "import pyspark\n",
    "from pyspark.sql.types import IntegerType, FloatType\n",
    "import pyspark.sql.functions as sf\n",
    "\n",
    "sparkql = pyspark.sql.SparkSession.builder.master('local').getOrCreate()\n",
    "\n",
    "data_dir = './data'\n",
    "coffee_data = 'coffee.csv'\n",
    "\n",
    "#Added schema to make sure all the columns are floats except for the 'Date' and 'Currency' columns\n",
    "schema = 'Date date, Open float, High float, Low float, Close float, Volume float, Currency string'\n",
    "\n",
    "#read csv into spark dataframe\n",
    "df = sparkql.read.csv(os.path.join(data_dir, coffee_data), header=True, schema=schema)\n",
    "\n",
    "print(df.columns)\n",
    "\n",
    "df.printSchema()\n",
    "df.show(3)"
   ]
  },
  {
   "cell_type": "code",
   "execution_count": 20,
   "metadata": {},
   "outputs": [
    {
     "name": "stdout",
     "output_type": "stream",
     "text": [
      "+----------+------+------+------+------+-------+--------+---------------+-------------+---------------+------------------+----------+\n",
      "|      Date|  Open|  High|   Low| Close| Volume|Currency|diff_open_close|diff_high_low|vol_greater_100|abs_val_open_close| net_sales|\n",
      "+----------+------+------+------+------+-------+--------+---------------+-------------+---------------+------------------+----------+\n",
      "|2000-01-03|122.25| 124.0| 116.1| 116.5| 6640.0|     USD|           5.75|          7.9|           true|              5.75| 794891.01|\n",
      "|2000-01-04|116.25| 120.5|115.75|116.25| 5492.0|     USD|            0.0|         4.75|           true|               0.0| 643593.75|\n",
      "|2000-01-05| 115.0| 121.0| 115.0| 118.6| 6165.0|     USD|           -3.6|          6.0|           true|               3.6| 723771.01|\n",
      "|2000-01-06| 119.0| 121.4| 116.5|116.85| 5094.0|     USD|           2.15|          4.9|           true|              2.15| 603320.63|\n",
      "|2000-01-07|117.25|117.75| 113.8|114.15| 6855.0|     USD|            3.1|         3.95|           true|               3.1| 793380.58|\n",
      "|2000-01-10| 123.5| 126.0| 116.7|117.55| 7499.0|     USD|           5.95|          9.3|           true|              5.95| 906910.31|\n",
      "|2000-01-11| 115.5|118.25| 115.5| 117.8| 3976.0|     USD|           -2.3|         2.75|           true|               2.3| 464247.69|\n",
      "|2000-01-12| 117.8| 120.5| 116.9|118.95| 5184.0|     USD|          -1.15|          3.6|           true|              1.15| 614498.39|\n",
      "|2000-01-13|119.25| 120.0| 117.5|118.55| 3717.0|     USD|            0.7|          2.5|           true|               0.7| 441672.51|\n",
      "|2000-01-14|117.75|120.25|112.25|112.55|10115.0|     USD|            5.2|          8.0|           true|               5.2|1170305.47|\n",
      "+----------+------+------+------+------+-------+--------+---------------+-------------+---------------+------------------+----------+\n",
      "only showing top 10 rows\n",
      "\n"
     ]
    }
   ],
   "source": [
    "# Columns from Aggregate Functions section\n",
    "\n",
    "# Add a column to the DataFrame where the values are the difference between 'Open' and 'Close'\n",
    "df = df.withColumn('diff_open_close', sf.round(sf.col('Open') - sf.col('Close'), 2))\n",
    "\n",
    "#Add a column to the DataFrame where the values are the difference between 'High' and 'Low'.\n",
    "df = df.withColumn('diff_high_low', sf.round(sf.col('High') - sf.col('Low'),2))\n",
    "\n",
    "#Add a column to the DataFrame where the values are 'True' if the volume for that day was 100 or above, and otherwise 'False'.\n",
    "df = df.withColumn('vol_greater_100', sf.col('Volume') > 100)\n",
    "\n",
    "#Add a column that contains the absolute values of the numbers in diff_open_close\n",
    "df = df.withColumn('abs_val_open_close', sf.round(sf.abs(sf.col('diff_open_close')),2))\n",
    "\n",
    "#Add a column with the average of opening, high, low, and closing cost times the volume\n",
    "df = df.withColumn('net_sales', sf.round(((sf.col('Open') + sf.col('Close') + sf.col('High') + sf.col('Low'))/4) * sf.col('Volume'), 2))\n",
    "\n",
    "df.show(10)"
   ]
  },
  {
   "cell_type": "code",
   "execution_count": 38,
   "metadata": {},
   "outputs": [
    {
     "name": "stdout",
     "output_type": "stream",
     "text": [
      "+---------------------------------+\n",
      "|round(avg(abs_val_open_close), 2)|\n",
      "+---------------------------------+\n",
      "|                             1.76|\n",
      "+---------------------------------+\n",
      "\n"
     ]
    },
    {
     "ename": "AttributeError",
     "evalue": "'DataFrame' object has no attribute 'average'",
     "output_type": "error",
     "traceback": [
      "\u001b[0;31m---------------------------------------------------------------------------\u001b[0m",
      "\u001b[0;31mAttributeError\u001b[0m                            Traceback (most recent call last)",
      "\u001b[0;32m/var/folders/74/s3dyx3n926z8q5dgtnrj1yp00000gp/T/ipykernel_19496/2276308028.py\u001b[0m in \u001b[0;36m<module>\u001b[0;34m\u001b[0m\n\u001b[1;32m      4\u001b[0m \u001b[0mdf\u001b[0m\u001b[0;34m.\u001b[0m\u001b[0magg\u001b[0m\u001b[0;34m(\u001b[0m\u001b[0msf\u001b[0m\u001b[0;34m.\u001b[0m\u001b[0mround\u001b[0m\u001b[0;34m(\u001b[0m\u001b[0msf\u001b[0m\u001b[0;34m.\u001b[0m\u001b[0mavg\u001b[0m\u001b[0;34m(\u001b[0m\u001b[0msf\u001b[0m\u001b[0;34m.\u001b[0m\u001b[0mcol\u001b[0m\u001b[0;34m(\u001b[0m\u001b[0;34m'abs_val_open_close'\u001b[0m\u001b[0;34m)\u001b[0m\u001b[0;34m)\u001b[0m\u001b[0;34m,\u001b[0m\u001b[0;36m2\u001b[0m\u001b[0;34m)\u001b[0m\u001b[0;34m)\u001b[0m\u001b[0;34m.\u001b[0m\u001b[0mshow\u001b[0m\u001b[0;34m(\u001b[0m\u001b[0;34m)\u001b[0m\u001b[0;34m\u001b[0m\u001b[0;34m\u001b[0m\u001b[0m\n\u001b[1;32m      5\u001b[0m \u001b[0;34m\u001b[0m\u001b[0m\n\u001b[0;32m----> 6\u001b[0;31m \u001b[0mdf\u001b[0m\u001b[0;34m.\u001b[0m\u001b[0mselect\u001b[0m\u001b[0;34m(\u001b[0m\u001b[0;34m'abs_val_open_close'\u001b[0m\u001b[0;34m)\u001b[0m\u001b[0;34m.\u001b[0m\u001b[0maverage\u001b[0m\u001b[0;34m(\u001b[0m\u001b[0;34m)\u001b[0m\u001b[0;34m\u001b[0m\u001b[0;34m\u001b[0m\u001b[0m\n\u001b[0m\u001b[1;32m      7\u001b[0m \u001b[0;34m\u001b[0m\u001b[0m\n\u001b[1;32m      8\u001b[0m \u001b[0;31m# count of values where the 'Volume' was less than 100\u001b[0m\u001b[0;34m\u001b[0m\u001b[0;34m\u001b[0m\u001b[0;34m\u001b[0m\u001b[0m\n",
      "\u001b[0;32m~/Desktop/spark-cr/venv/lib/python3.7/site-packages/pyspark/sql/dataframe.py\u001b[0m in \u001b[0;36m__getattr__\u001b[0;34m(self, name)\u001b[0m\n\u001b[1;32m   1987\u001b[0m         \u001b[0;32mif\u001b[0m \u001b[0mname\u001b[0m \u001b[0;32mnot\u001b[0m \u001b[0;32min\u001b[0m \u001b[0mself\u001b[0m\u001b[0;34m.\u001b[0m\u001b[0mcolumns\u001b[0m\u001b[0;34m:\u001b[0m\u001b[0;34m\u001b[0m\u001b[0;34m\u001b[0m\u001b[0m\n\u001b[1;32m   1988\u001b[0m             raise AttributeError(\n\u001b[0;32m-> 1989\u001b[0;31m                 \u001b[0;34m\"'%s' object has no attribute '%s'\"\u001b[0m \u001b[0;34m%\u001b[0m \u001b[0;34m(\u001b[0m\u001b[0mself\u001b[0m\u001b[0;34m.\u001b[0m\u001b[0m__class__\u001b[0m\u001b[0;34m.\u001b[0m\u001b[0m__name__\u001b[0m\u001b[0;34m,\u001b[0m \u001b[0mname\u001b[0m\u001b[0;34m)\u001b[0m\u001b[0;34m\u001b[0m\u001b[0;34m\u001b[0m\u001b[0m\n\u001b[0m\u001b[1;32m   1990\u001b[0m             )\n\u001b[1;32m   1991\u001b[0m         \u001b[0mjc\u001b[0m \u001b[0;34m=\u001b[0m \u001b[0mself\u001b[0m\u001b[0;34m.\u001b[0m\u001b[0m_jdf\u001b[0m\u001b[0;34m.\u001b[0m\u001b[0mapply\u001b[0m\u001b[0;34m(\u001b[0m\u001b[0mname\u001b[0m\u001b[0;34m)\u001b[0m\u001b[0;34m\u001b[0m\u001b[0;34m\u001b[0m\u001b[0m\n",
      "\u001b[0;31mAttributeError\u001b[0m: 'DataFrame' object has no attribute 'average'"
     ]
    }
   ],
   "source": [
    "# Stats section\n",
    "\n",
    "# average of the values in the column that has the absolute values of the difference between 'Open' and 'Close'\n",
    "df.agg(sf.round(sf.avg(sf.col('abs_val_open_close')),2)).show()\n",
    "\n",
    "# count of values where the 'Volume' was less than 100\n",
    "df.select('Volume').where(df.Volume < 100).count()\n",
    "\n",
    "# average 'Open' value\n",
    "\n",
    "# highest 'High' value\n",
    "\n",
    "\n",
    "\n",
    "\n"
   ]
  }
 ],
 "metadata": {
  "kernelspec": {
   "display_name": "Python 3.7.9 ('venv': venv)",
   "language": "python",
   "name": "python3"
  },
  "language_info": {
   "codemirror_mode": {
    "name": "ipython",
    "version": 3
   },
   "file_extension": ".py",
   "mimetype": "text/x-python",
   "name": "python",
   "nbconvert_exporter": "python",
   "pygments_lexer": "ipython3",
   "version": "3.7.9"
  },
  "orig_nbformat": 4,
  "vscode": {
   "interpreter": {
    "hash": "352d96084042a52538aabb33be5313d9295c2d08730b76d387ab504022402264"
   }
  }
 },
 "nbformat": 4,
 "nbformat_minor": 2
}
