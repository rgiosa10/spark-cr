{
 "cells": [
  {
   "cell_type": "code",
   "execution_count": 5,
   "metadata": {},
   "outputs": [
    {
     "name": "stdout",
     "output_type": "stream",
     "text": [
      "['Date', 'Open', 'High', 'Low', 'Close', 'Volume', 'Currency']\n",
      "root\n",
      " |-- Date: date (nullable = true)\n",
      " |-- Open: float (nullable = true)\n",
      " |-- High: float (nullable = true)\n",
      " |-- Low: float (nullable = true)\n",
      " |-- Close: float (nullable = true)\n",
      " |-- Volume: float (nullable = true)\n",
      " |-- Currency: string (nullable = true)\n",
      "\n",
      "+----------+------+-----+------+------+------+--------+\n",
      "|      Date|  Open| High|   Low| Close|Volume|Currency|\n",
      "+----------+------+-----+------+------+------+--------+\n",
      "|2000-01-03|122.25|124.0| 116.1| 116.5|6640.0|     USD|\n",
      "|2000-01-04|116.25|120.5|115.75|116.25|5492.0|     USD|\n",
      "|2000-01-05| 115.0|121.0| 115.0| 118.6|6165.0|     USD|\n",
      "+----------+------+-----+------+------+------+--------+\n",
      "only showing top 3 rows\n",
      "\n"
     ]
    }
   ],
   "source": [
    "import os\n",
    "\n",
    "import pyspark\n",
    "from pyspark.sql.types import IntegerType, FloatType\n",
    "import pyspark.sql.functions as sf\n",
    "\n",
    "sparkql = pyspark.sql.SparkSession.builder.master('local').getOrCreate()\n",
    "\n",
    "data_dir = './data'\n",
    "coffee_data = 'coffee.csv'\n",
    "\n",
    "schema = 'Date date, Open float, High float, Low float, Close float, Volume float, Currency string'\n",
    "df = sparkql.read.csv(os.path.join(data_dir, coffee_data), header=True, schema=schema)\n",
    "\n",
    "print(df.columns)\n",
    "\n",
    "df.printSchema()\n",
    "df.show(3)"
   ]
  },
  {
   "cell_type": "code",
   "execution_count": 11,
   "metadata": {},
   "outputs": [
    {
     "name": "stdout",
     "output_type": "stream",
     "text": [
      "+----------+------+------+------+------+-------+--------+---------------+-------------+---------------+------------------+\n",
      "|      Date|  Open|  High|   Low| Close| Volume|Currency|diff_open_close|diff_high_low|vol_greater_100|abs_val_open_close|\n",
      "+----------+------+------+------+------+-------+--------+---------------+-------------+---------------+------------------+\n",
      "|2000-01-03|122.25| 124.0| 116.1| 116.5| 6640.0|     USD|           5.75|    7.9000015|           true|              5.75|\n",
      "|2000-01-04|116.25| 120.5|115.75|116.25| 5492.0|     USD|            0.0|         4.75|           true|               0.0|\n",
      "|2000-01-05| 115.0| 121.0| 115.0| 118.6| 6165.0|     USD|     -3.5999985|          6.0|           true|         3.5999985|\n",
      "|2000-01-06| 119.0| 121.4| 116.5|116.85| 5094.0|     USD|      2.1500015|    4.9000015|           true|         2.1500015|\n",
      "|2000-01-07|117.25|117.75| 113.8|114.15| 6855.0|     USD|      3.0999985|     3.949997|           true|         3.0999985|\n",
      "|2000-01-10| 123.5| 126.0| 116.7|117.55| 7499.0|     USD|       5.949997|     9.300003|           true|          5.949997|\n",
      "|2000-01-11| 115.5|118.25| 115.5| 117.8| 3976.0|     USD|      -2.300003|         2.75|           true|          2.300003|\n",
      "|2000-01-12| 117.8| 120.5| 116.9|118.95| 5184.0|     USD|     -1.1499939|    3.5999985|           true|         1.1499939|\n",
      "|2000-01-13|119.25| 120.0| 117.5|118.55| 3717.0|     USD|     0.69999695|          2.5|           true|        0.69999695|\n",
      "|2000-01-14|117.75|120.25|112.25|112.55|10115.0|     USD|       5.199997|          8.0|           true|          5.199997|\n",
      "+----------+------+------+------+------+-------+--------+---------------+-------------+---------------+------------------+\n",
      "only showing top 10 rows\n",
      "\n"
     ]
    }
   ],
   "source": [
    "df = df.withColumn('diff_open_close', sf.col('Open') - sf.col('Close'))\n",
    "df = df.withColumn('diff_high_low', sf.col('High') - sf.col('Low'))\n",
    "df = df.withColumn('vol_greater_100', sf.col('Volume') > 100)\n",
    "df = df.withColumn('abs_val_open_close', sf.abs(sf.col('diff_open_close')))\n",
    "\n",
    "df.show(10)"
   ]
  }
 ],
 "metadata": {
  "kernelspec": {
   "display_name": "Python 3.7.9 ('venv': venv)",
   "language": "python",
   "name": "python3"
  },
  "language_info": {
   "codemirror_mode": {
    "name": "ipython",
    "version": 3
   },
   "file_extension": ".py",
   "mimetype": "text/x-python",
   "name": "python",
   "nbconvert_exporter": "python",
   "pygments_lexer": "ipython3",
   "version": "3.7.9"
  },
  "orig_nbformat": 4,
  "vscode": {
   "interpreter": {
    "hash": "352d96084042a52538aabb33be5313d9295c2d08730b76d387ab504022402264"
   }
  }
 },
 "nbformat": 4,
 "nbformat_minor": 2
}
